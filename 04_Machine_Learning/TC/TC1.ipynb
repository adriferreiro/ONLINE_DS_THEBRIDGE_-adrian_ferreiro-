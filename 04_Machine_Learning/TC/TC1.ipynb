{
 "cells": [
  {
   "cell_type": "markdown",
   "metadata": {},
   "source": [
    "## FUNCION \n",
    "\n",
    "Esta función recibe como argumentos un dataframe, el nombre de una de las columnas del mismo (argumento 'target_col'), que debería ser el target de un hipotético modelo de regresión, es decir debe ser una variable numérica continua o discreta pero con alta cardinalidad y una variable float \"pvalue\" cuyo valor por defecto será 0.05.\n",
    "\n",
    "La función debe devolver una lista con las columnas categóricas del dataframe cuyo test de relación con la columna designada por 'target_col' supere en confianza estadística el test de relación que sea necesario hacer (es decir la función debe poder escoger cuál de los dos test que hemos aprendido tiene que hacer).\n",
    "\n",
    "La función debe hacer todas las comprobaciones necesarias para no dar error como consecuecia de los valores de entrada. Es decir hará un check de los valores asignados a los argumentos de entrada y si estos no son adecuados debe retornar None y printar por pantalla la razón de este comportamiento. Ojo entre las comprobaciones debe estar que \"target_col\" hace referencia a una variable numérica continua del dataframe."
   ]
  },
  {
   "cell_type": "markdown",
   "metadata": {},
   "source": [
    "#### pasos a seguir\n",
    "Argumentos: \n",
    "    df, target_col, pvalue = 00.5\n",
    "devolver:\n",
    "    lista de columnas categóricas cuyo test de relación con la columna targer supera la confianza estadistica del teste de relafcion \n"
   ]
  },
  {
   "cell_type": "code",
   "execution_count": 24,
   "metadata": {},
   "outputs": [],
   "source": [
    "import pandas as pd\n",
    "import numpy as np\n",
    "from scipy.stats import ttest_ind, chi2_contingency\n",
    "\n"
   ]
  },
  {
   "cell_type": "code",
   "execution_count": 25,
   "metadata": {},
   "outputs": [],
   "source": [
    "\n",
    "def test_relacion_categoricas(df, target_col, pvalue=0.05):\n",
    "    # Comprobar si 'target_col' es una columna numérica continua\n",
    "    if target_col not in df.columns or not pd.api.types.is_numeric_dtype(df[target_col]): #pd.api.types.is_numeric_dtype función está diseñada para verificar si un tipo de datos dado es numérico.\n",
    "        print(f\"Error: '{target_col}' no es una columna numérica continua válida.\")\n",
    "        return None\n",
    "    \n",
    "    # Filtrar columnas categóricas\n",
    "    cols_categoricas = df.select_dtypes(include=[\"object\", \"category\"]).columns\n",
    "    \n",
    "    # Comprobar si hay columnas categóricas\n",
    "    if len(cols_categoricas) == 0:\n",
    "        print(\"Error: No hay columnas categóricas en el dataframe.\")\n",
    "        return None\n",
    "    \n",
    "    # Calcular el número de categorías distintas en cada columna categórica\n",
    "    num_categorias = df[cols_categoricas].nunique()\n",
    "    \n",
    "    # Seleccionar la columna categórica con mayor cardinalidad\n",
    "    col_max_cardinalidad = num_categorias.idxmax()\n",
    "    \n",
    "    # Seleccionar el test de relación adecuado\n",
    "    if pd.api.types.is_numeric_dtype(df[col_max_cardinalidad]):\n",
    "        test_result = ttest_ind(df[col_max_cardinalidad], df[target_col])\n",
    "    else:\n",
    "        contingency_table = pd.crosstab(df[col_max_cardinalidad], df[target_col])\n",
    "        test_result = chi2_contingency(contingency_table)\n",
    "    \n",
    "    # Evaluar el p-value del test de relación\n",
    "    if test_result.pvalue < pvalue:\n",
    "        return [col_max_cardinalidad]\n",
    "    else:\n",
    "        print(f\"No se encontraron relaciones estadísticamente significativas para '{target_col}'.\")\n",
    "        return []\n",
    "\n",
    "\n"
   ]
  },
  {
   "cell_type": "code",
   "execution_count": 26,
   "metadata": {},
   "outputs": [],
   "source": [
    "df = pd.read_csv(\"./data/hard_to_find/obligatoria_hard.csv\",sep = \"|\")\n",
    "target = \"MEDV\""
   ]
  },
  {
   "cell_type": "code",
   "execution_count": 27,
   "metadata": {},
   "outputs": [
    {
     "name": "stdout",
     "output_type": "stream",
     "text": [
      "Error: No hay columnas categóricas en el dataframe.\n"
     ]
    }
   ],
   "source": [
    "test_relacion_categoricas(df, \"MEDV\", pvalue=0.05)"
   ]
  },
  {
   "cell_type": "code",
   "execution_count": 32,
   "metadata": {},
   "outputs": [],
   "source": [
    "df_inmo = pd.read_csv(\"./data_2/ejemplo_housing.csv\")"
   ]
  },
  {
   "cell_type": "code",
   "execution_count": 34,
   "metadata": {},
   "outputs": [
    {
     "name": "stdout",
     "output_type": "stream",
     "text": [
      "['ocean_proximity']\n"
     ]
    }
   ],
   "source": [
    "\n",
    "columnas_relacionadas = test_relacion_categoricas(df_inmo, 'median_house_value')\n",
    "print(columnas_relacionadas)"
   ]
  },
  {
   "cell_type": "code",
   "execution_count": null,
   "metadata": {},
   "outputs": [],
   "source": []
  }
 ],
 "metadata": {
  "kernelspec": {
   "display_name": "Python 3",
   "language": "python",
   "name": "python3"
  },
  "language_info": {
   "codemirror_mode": {
    "name": "ipython",
    "version": 3
   },
   "file_extension": ".py",
   "mimetype": "text/x-python",
   "name": "python",
   "nbconvert_exporter": "python",
   "pygments_lexer": "ipython3",
   "version": "3.12.1"
  }
 },
 "nbformat": 4,
 "nbformat_minor": 2
}
