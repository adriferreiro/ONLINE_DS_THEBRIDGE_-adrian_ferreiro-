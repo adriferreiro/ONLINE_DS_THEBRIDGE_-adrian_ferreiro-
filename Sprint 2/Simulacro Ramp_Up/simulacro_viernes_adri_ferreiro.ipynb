{
 "cells": [
  {
   "attachments": {},
   "cell_type": "markdown",
   "metadata": {},
   "source": [
    "# Simulacro Rampup"
   ]
  },
  {
   "cell_type": "code",
   "execution_count": null,
   "metadata": {},
   "outputs": [],
   "source": [
    "# Escribe tu nombre y apellidos (apellido si solo tienes uno) en las variables:\n",
    "nombre = \"\"\n",
    "apellidos = \"\""
   ]
  },
  {
   "cell_type": "code",
   "execution_count": null,
   "metadata": {},
   "outputs": [],
   "source": [
    "# Solo ejecutar\n",
    "nombre_apellidos = nombre + ' ' + apellidos\n",
    "print(\"Bienvenido\", nombre_apellidos + '. Mucha suerte!')"
   ]
  },
  {
   "cell_type": "markdown",
   "metadata": {},
   "source": [
    "### Ejercicio 1: Calculadoras (3 puntos)\n"
   ]
  },
  {
   "cell_type": "markdown",
   "metadata": {},
   "source": [
    "Construye un programa que:\n",
    "\n",
    "- Salude al usuario por su nombre\n",
    "- Le pregunte si quiere sumar, restar, multiplicar o dividir\n",
    "- Pida que introduzca 2 números de manera sucesiva\n",
    "- Devuelva el resultado de manera formal con un mensaje apropiado \n",
    "\n",
    "**Ayuda**: No se puede dividir por 0"
   ]
  },
  {
   "cell_type": "code",
   "execution_count": 1,
   "metadata": {},
   "outputs": [
    {
     "name": "stdout",
     "output_type": "stream",
     "text": [
      "buenos días has activado la calculadora simple \n",
      "Bienvenido adrian\n",
      "Has seleccionado la operación: sumar\n",
      "La sumar de 6.0 y 5.0 es 11.0\n"
     ]
    }
   ],
   "source": [
    "nombre =input(\"como te llamas\")\n",
    "print(\"buenos días has activado la calculadora simple \\nBienvenido\", nombre)\n",
    "operacion = \"\"\n",
    "while operacion not in [\"sumar\", \"restar\", \"multiplicar\", \"dividir\"]:\n",
    "    operacion = input(\"¿Quieres sumar, restar, multiplicar o dividir? \")\n",
    "\n",
    "    if operacion not in [\"sumar\", \"restar\", \"multiplicar\", \"dividir\"]:\n",
    "        print(\"Operación no válida. Por favor, elige una operación válida.\")\n",
    "\n",
    "print(f\"Has seleccionado la operación: {operacion}\")\n",
    "    \n",
    "numero1 = float(input(\"escribre un numero\"))\n",
    "numero2 = float(input(\"escribre otro numero\"))\n",
    "if operacion == \"sumar\":\n",
    "    resultado = numero1 + numero2\n",
    "if operacion == \"restar\":\n",
    "    resultado = numero1 - numero2\n",
    "if operacion == \"multiplicar\":\n",
    "    resultado = numero1 * numero2\n",
    "if operacion == \"dividir\":\n",
    "    resultado = numero1 / numero2\n",
    "print(f\"La {operacion} de {numero1} y {numero2} es {resultado}\")"
   ]
  },
  {
   "cell_type": "markdown",
   "metadata": {},
   "source": [
    "Construye una calculadora que sea como la anterior pero:\n",
    "\n",
    "- Acepte tantos valores de entrada como queramos\n",
    "- Devuelva mensajes con las cuentas que se van haciendo.\n",
    "- Permita salir con una palabra clave (exit, quit, ...)"
   ]
  },
  {
   "cell_type": "code",
   "execution_count": 19,
   "metadata": {},
   "outputs": [
    {
     "name": "stdout",
     "output_type": "stream",
     "text": [
      "buenos días has activado la calculadora simple \n",
      "Bienvenido a\n",
      "Has seleccionado la operación: sumar\n",
      "La sumar de 2.0 y 5.0 es 7.0\n",
      "Proceso terminado\n",
      "Operación no válida. Elige una operación válida.\n",
      "Has seleccionado la operación: quit\n"
     ]
    },
    {
     "ename": "ValueError",
     "evalue": "could not convert string to float: ''",
     "output_type": "error",
     "traceback": [
      "\u001b[1;31m---------------------------------------------------------------------------\u001b[0m",
      "\u001b[1;31mValueError\u001b[0m                                Traceback (most recent call last)",
      "\u001b[1;32mc:\\Users\\adrif\\OneDrive\\Documentos\\GitHub\\DS_Online_Oct23_Exercises\\01_Programacion_basica_y_Ramp-Up\\Simulacros Rampup\\simulacro_viernes.ipynb Cell 8\u001b[0m line \u001b[0;36m1\n\u001b[0;32m     <a href='vscode-notebook-cell:/c%3A/Users/adrif/OneDrive/Documentos/GitHub/DS_Online_Oct23_Exercises/01_Programacion_basica_y_Ramp-Up/Simulacros%20Rampup/simulacro_viernes.ipynb#X10sZmlsZQ%3D%3D?line=12'>13</a>\u001b[0m     \u001b[39mprint\u001b[39m(\u001b[39m\"\u001b[39m\u001b[39mOperación no válida. Elige una operación válida.\u001b[39m\u001b[39m\"\u001b[39m)\n\u001b[0;32m     <a href='vscode-notebook-cell:/c%3A/Users/adrif/OneDrive/Documentos/GitHub/DS_Online_Oct23_Exercises/01_Programacion_basica_y_Ramp-Up/Simulacros%20Rampup/simulacro_viernes.ipynb#X10sZmlsZQ%3D%3D?line=15'>16</a>\u001b[0m \u001b[39mprint\u001b[39m(\u001b[39mf\u001b[39m\u001b[39m\"\u001b[39m\u001b[39mHas seleccionado la operación: \u001b[39m\u001b[39m{\u001b[39;00moperacion\u001b[39m}\u001b[39;00m\u001b[39m\"\u001b[39m)\n\u001b[1;32m---> <a href='vscode-notebook-cell:/c%3A/Users/adrif/OneDrive/Documentos/GitHub/DS_Online_Oct23_Exercises/01_Programacion_basica_y_Ramp-Up/Simulacros%20Rampup/simulacro_viernes.ipynb#X10sZmlsZQ%3D%3D?line=17'>18</a>\u001b[0m numero1 \u001b[39m=\u001b[39m \u001b[39mfloat\u001b[39;49m(\u001b[39minput\u001b[39;49m(\u001b[39m\"\u001b[39;49m\u001b[39mEscribe un número: \u001b[39;49m\u001b[39m\"\u001b[39;49m))\n\u001b[0;32m     <a href='vscode-notebook-cell:/c%3A/Users/adrif/OneDrive/Documentos/GitHub/DS_Online_Oct23_Exercises/01_Programacion_basica_y_Ramp-Up/Simulacros%20Rampup/simulacro_viernes.ipynb#X10sZmlsZQ%3D%3D?line=18'>19</a>\u001b[0m numero2 \u001b[39m=\u001b[39m \u001b[39mfloat\u001b[39m(\u001b[39minput\u001b[39m(\u001b[39m\"\u001b[39m\u001b[39mEscribe otro número: \u001b[39m\u001b[39m\"\u001b[39m))\n\u001b[0;32m     <a href='vscode-notebook-cell:/c%3A/Users/adrif/OneDrive/Documentos/GitHub/DS_Online_Oct23_Exercises/01_Programacion_basica_y_Ramp-Up/Simulacros%20Rampup/simulacro_viernes.ipynb#X10sZmlsZQ%3D%3D?line=19'>20</a>\u001b[0m resultado \u001b[39m=\u001b[39m \u001b[39m0\u001b[39m\n",
      "\u001b[1;31mValueError\u001b[0m: could not convert string to float: ''"
     ]
    }
   ],
   "source": [
    "nombre = input(\"¿Cómo te llamas? \")\n",
    "print(\"buenos días has activado la calculadora simple \\nBienvenido\", nombre)\n",
    "operacion = \"\"\n",
    "\n",
    "while operacion != \"exit\" or operacion != \"quit\":\n",
    "    operacion = input(\"¿Quieres sumar, restar, multiplicar, dividir o salir (exit o quit)? \")\n",
    "\n",
    "    if operacion == \"exit\" or operacion == \"quit\":\n",
    "        print(\"Proceso terminado\")\n",
    "        \n",
    "\n",
    "    if operacion not in [\"sumar\", \"restar\", \"multiplicar\", \"dividir\"]:\n",
    "        print(\"Operación no válida. Elige una operación válida.\")\n",
    "        \n",
    "\n",
    "    print(f\"Has seleccionado la operación: {operacion}\")\n",
    "\n",
    "    numero1 = float(input(\"Escribe un número: \"))\n",
    "    numero2 = float(input(\"Escribe otro número: \"))\n",
    "    resultado = 0\n",
    "\n",
    "    if operacion == \"sumar\":\n",
    "        resultado = numero1 + numero2\n",
    "    elif operacion == \"restar\":\n",
    "        resultado = numero1 - numero2\n",
    "    elif operacion == \"multiplicar\":\n",
    "        resultado = numero1 * numero2\n",
    "    elif operacion == \"dividir\":\n",
    "        if numero2 == 0:\n",
    "            print(\"No puedes dividir por cero.\")\n",
    "            \n",
    "        resultado = numero1 / numero2\n",
    "\n",
    "    print(f\"La {operacion} de {numero1} y {numero2} es {resultado}\")\n"
   ]
  },
  {
   "cell_type": "code",
   "execution_count": null,
   "metadata": {},
   "outputs": [],
   "source": []
  },
  {
   "cell_type": "markdown",
   "metadata": {},
   "source": [
    "### Ejercicio 2 (4 puntos)\n",
    "\n",
    "Escribe un programa que trabaje con 3 listas:\n",
    "\n",
    "La lista ***grupo_musical*** contiene strings.\n",
    "\n",
    "La lista ***generos*** contiene strings.\n",
    "\n",
    "La lista ***anios*** puede contener un entero o tuplas.\n",
    "\n",
    "Ejemplo de datos:\n",
    "\n",
    ">\"ABBA\"\n",
    ">\n",
    ">\"pop\"\n",
    ">\n",
    ">(1972, 1982)\n",
    "\n",
    "Otro ejemplo:\n",
    "\n",
    ">\"Madonna\"\n",
    ">\n",
    ">\"pop\"\n",
    ">\n",
    ">1983\n",
    "\n",
    "Otro ejemplo:\n",
    "\n",
    ">\"Kölsch\"\n",
    ">\n",
    ">\"electronica\"\n",
    ">\n",
    ">1995\n",
    "\n",
    "Un grupo musical solo puede tener un género musical.\n",
    "Un grupo musical debe tener como mínimo un año de formación, que es un entero.\n",
    "Un grupo musical, si tuviese año de disolución, la información se guardaría en una tupla.\n",
    "\n",
    "Se pide implementar:\n",
    "\n",
    "a. Una función llamada *inserta* que acepte 4 parámetros (grupo, genero, comienzo, fin). El fin por defecto debe ser un objeto nulo. El grupo se inserta en la lista de grupos. El genero se inserta en la lista de géneros. El comienzo o comienzo y fin se inserta en la lista de años. La función no tiene valor retornado.\n",
    "\n",
    "b. Una función *busca_genero* con un parámetro de tipo string (genero) y devuelve una lista con todos los grupos de ese género.\n",
    "\n",
    "c. Una función *busca_grupos* con un parámetro booleano llamado *activos* con un valor por defecto verdadero. Cuando el valor es verdadero, devuelve solo los grupos activos en una lista. Cuando *activos* es falso, devuelve todos los grupos disueltos en una lista.\n",
    "\n",
    "d. Una función *busca_genero_indice* con un parámetro de tipo string (genero) que devuelve una lista con los índices donde se encuentra ese género.\n",
    "\n",
    "e. Una función *filtra_listas_genero* con un parámetro de tipo string (genero) que devuelve una tupla con las 3 listas filtradas y ***llame*** a busca_genero_indice\n",
    "\n",
    "f. Una función *anios_activos* que no tenga parámetros de entrada ni valor retornado que imprima línea a línea la información: grupo musical ---> años activos. Es decir: \n",
    "\n",
    ">ABBA ---> 10 años activos\n",
    ">\n",
    ">Madonna --> 40 años activos\n",
    ">\n",
    ">Kölsch --> 25 años activos\n",
    "\n",
    "\n",
    "Nota: si no te sale un apartado después de un tiempo prudencial, ¡pasa al siguiente!"
   ]
  },
  {
   "cell_type": "code",
   "execution_count": 18,
   "metadata": {},
   "outputs": [
    {
     "name": "stdout",
     "output_type": "stream",
     "text": [
      "ABBA pop 1972 1982\n",
      "ABBA pop 1972 1982\n",
      "ABBA pop 1972 1982\n",
      "ABBA pop 1972 1982\n",
      "ABBA pop 1972 1982\n",
      "ABBA pop 1972 1982\n"
     ]
    },
    {
     "ename": "TypeError",
     "evalue": "'list' object cannot be interpreted as an integer",
     "output_type": "error",
     "traceback": [
      "\u001b[1;31m---------------------------------------------------------------------------\u001b[0m",
      "\u001b[1;31mTypeError\u001b[0m                                 Traceback (most recent call last)",
      "\u001b[1;32mc:\\Users\\adrif\\OneDrive\\Documentos\\GitHub\\DS_Online_Oct23_Exercises\\01_Programacion_basica_y_Ramp-Up\\Simulacros Rampup\\simulacro_viernes.ipynb Cell 11\u001b[0m line \u001b[0;36m2\n\u001b[0;32m     <a href='vscode-notebook-cell:/c%3A/Users/adrif/OneDrive/Documentos/GitHub/DS_Online_Oct23_Exercises/01_Programacion_basica_y_Ramp-Up/Simulacros%20Rampup/simulacro_viernes.ipynb#X12sZmlsZQ%3D%3D?line=23'>24</a>\u001b[0m inserta(\u001b[39m\"\u001b[39m\u001b[39mMadonna\u001b[39m\u001b[39m\"\u001b[39m,\u001b[39m\"\u001b[39m\u001b[39mpop\u001b[39m\u001b[39m\"\u001b[39m,\u001b[39m1983\u001b[39m)\n\u001b[0;32m     <a href='vscode-notebook-cell:/c%3A/Users/adrif/OneDrive/Documentos/GitHub/DS_Online_Oct23_Exercises/01_Programacion_basica_y_Ramp-Up/Simulacros%20Rampup/simulacro_viernes.ipynb#X12sZmlsZQ%3D%3D?line=24'>25</a>\u001b[0m inserta(\u001b[39m\"\u001b[39m\u001b[39mKölsch\u001b[39m\u001b[39m\"\u001b[39m,\u001b[39m\"\u001b[39m\u001b[39melectronica\u001b[39m\u001b[39m\"\u001b[39m,\u001b[39m1995\u001b[39m)\n\u001b[1;32m---> <a href='vscode-notebook-cell:/c%3A/Users/adrif/OneDrive/Documentos/GitHub/DS_Online_Oct23_Exercises/01_Programacion_basica_y_Ramp-Up/Simulacros%20Rampup/simulacro_viernes.ipynb#X12sZmlsZQ%3D%3D?line=25'>26</a>\u001b[0m busca_genero(\u001b[39m\"\u001b[39;49m\u001b[39mpop\u001b[39;49m\u001b[39m\"\u001b[39;49m)\n",
      "\u001b[1;32mc:\\Users\\adrif\\OneDrive\\Documentos\\GitHub\\DS_Online_Oct23_Exercises\\01_Programacion_basica_y_Ramp-Up\\Simulacros Rampup\\simulacro_viernes.ipynb Cell 11\u001b[0m line \u001b[0;36m1\n\u001b[0;32m     <a href='vscode-notebook-cell:/c%3A/Users/adrif/OneDrive/Documentos/GitHub/DS_Online_Oct23_Exercises/01_Programacion_basica_y_Ramp-Up/Simulacros%20Rampup/simulacro_viernes.ipynb#X12sZmlsZQ%3D%3D?line=14'>15</a>\u001b[0m \u001b[39mdef\u001b[39;00m \u001b[39mbusca_genero\u001b[39m(genero):\n\u001b[0;32m     <a href='vscode-notebook-cell:/c%3A/Users/adrif/OneDrive/Documentos/GitHub/DS_Online_Oct23_Exercises/01_Programacion_basica_y_Ramp-Up/Simulacros%20Rampup/simulacro_viernes.ipynb#X12sZmlsZQ%3D%3D?line=15'>16</a>\u001b[0m     grupos_genero \u001b[39m=\u001b[39m []\n\u001b[1;32m---> <a href='vscode-notebook-cell:/c%3A/Users/adrif/OneDrive/Documentos/GitHub/DS_Online_Oct23_Exercises/01_Programacion_basica_y_Ramp-Up/Simulacros%20Rampup/simulacro_viernes.ipynb#X12sZmlsZQ%3D%3D?line=16'>17</a>\u001b[0m     \u001b[39mfor\u001b[39;00m i \u001b[39min\u001b[39;00m \u001b[39mrange\u001b[39;49m(lista_grupo):\n\u001b[0;32m     <a href='vscode-notebook-cell:/c%3A/Users/adrif/OneDrive/Documentos/GitHub/DS_Online_Oct23_Exercises/01_Programacion_basica_y_Ramp-Up/Simulacros%20Rampup/simulacro_viernes.ipynb#X12sZmlsZQ%3D%3D?line=17'>18</a>\u001b[0m         \u001b[39mif\u001b[39;00m lista_genero[i] \u001b[39m==\u001b[39m genero:\n\u001b[0;32m     <a href='vscode-notebook-cell:/c%3A/Users/adrif/OneDrive/Documentos/GitHub/DS_Online_Oct23_Exercises/01_Programacion_basica_y_Ramp-Up/Simulacros%20Rampup/simulacro_viernes.ipynb#X12sZmlsZQ%3D%3D?line=18'>19</a>\u001b[0m             grupos_genero\u001b[39m.\u001b[39mappend(lista_grupo[i])\n",
      "\u001b[1;31mTypeError\u001b[0m: 'list' object cannot be interpreted as an integer"
     ]
    }
   ],
   "source": [
    "lista_grupo = [] \n",
    "lista_genero = [] \n",
    "lista_comienzo = [] \n",
    "lista_fin = [] \n",
    "def inserta(grupo,genero,comienzo,fin = None):\n",
    "    lista_grupo.append(grupo) \n",
    "    lista_genero.append(genero)\n",
    "    lista_comienzo.append(comienzo)\n",
    "    lista_fin.append(fin)\n",
    "    for i in lista_grupo:\n",
    "        print(lista_grupo[0],lista_genero[0],lista_comienzo[0],lista_fin[0])\n",
    "\n",
    "def busca_genero(genero):\n",
    "    grupos_genero = []\n",
    "    for i in range(len(lista_grupo)):\n",
    "        if lista_genero[i] == genero:\n",
    "            grupos_genero.append(lista_grupo[i])\n",
    "    print(grupos_genero)\n",
    "\n",
    "def busca_grupo(activos=True):\n",
    "    if activos == True: \n",
    "        lista_activos = []\n",
    "        for i in range(len(lista_grupo)):\n",
    "            if lista_fin != None:\n",
    "                lista_activos.append(lista)\n",
    "\n",
    "\n",
    "inserta(\"ABBA\", \"pop\",1972,1982)\n",
    "inserta(\"Madonna\",\"pop\",1983)\n",
    "inserta(\"Kölsch\",\"electronica\",1995)\n",
    "busca_genero(\"pop\")\n",
    "\n",
    "\n"
   ]
  },
  {
   "attachments": {},
   "cell_type": "markdown",
   "metadata": {},
   "source": [
    "### Ejercicio 3 (3 puntos)\n",
    "\n",
    "#### Crear un programa que calcule la cuota de una hipoteca\n",
    "\n",
    "Las cuotas hipotecarias se calculan utilizando la fórmula del interés francés. \n",
    "\n",
    "La fórmula del interés francés es la siguiente:\n",
    "\\begin{align*}\n",
    "C=V \\frac{(1+i)^n i}{(1+i)^n -1}\n",
    "\\end{align*}\n",
    "\n",
    "\n",
    "    C = cuota a pagar (mensual)\n",
    "    V = volumen del préstamo hipotecario\n",
    "    i = tipo de interés del período (mensual)\n",
    "    n = número de cuotas (mensuales)\n",
    "\n"
   ]
  },
  {
   "attachments": {},
   "cell_type": "markdown",
   "metadata": {},
   "source": [
    "1. Crea un programa que solicite al usuario los datos de su hipoteca mediante input() los datos (volumen, interés **anual**, y plazo en **años**) y le devuelva la cuota **mensual** a pagar. No es necesario encapsularlo en funciones. (0.4)"
   ]
  },
  {
   "cell_type": "code",
   "execution_count": null,
   "metadata": {},
   "outputs": [],
   "source": [
    "volumen = int(input(\"de cuanto es la hipoteca?\"))\n",
    "interes_anual = float(input(\"Cual es el tipo de interes\"))\n",
    "anyos = int(input(\"En cuantos años amortizas la hiporteca\"))\n",
    "cuota = volumen * ((((1+interes_anual)**anyos)*interes_anual)/(((1+interes_anual)**anyos)-1))\n",
    "print(\"Tu cuota mensual será de:\", cuota,\"€\")"
   ]
  },
  {
   "cell_type": "code",
   "execution_count": null,
   "metadata": {},
   "outputs": [],
   "source": [
    "def calcular_hip(volumen2, interes_anual1, anhos = 20):\n",
    "    cuota2 = volumen2 * ((((1+interes_anual1)**anhos)*interes_anual1)/(((1+interes_anual1)**anhos)-1))\n",
    "    print(\"Tu cuota mensual será de:\", cuota2,\"€\")\n",
    "calcular_hip(200000,0.06)"
   ]
  },
  {
   "attachments": {},
   "cell_type": "markdown",
   "metadata": {},
   "source": [
    "2. Crea una función `calcular_hip` que realiza el cálculo y cuyos argumentos de entrada sean `volumen`, `interes_anual` y `años`, devolviendo la couta mensual(float). El argumento de `años` deberá de tener un valor por defecto de 30. Documenta la función con el estilo de Google.  (0.4)"
   ]
  },
  {
   "cell_type": "code",
   "execution_count": null,
   "metadata": {},
   "outputs": [],
   "source": []
  },
  {
   "attachments": {},
   "cell_type": "markdown",
   "metadata": {},
   "source": [
    "3. Calcula la cuota y guárdala en la variable `res_cuota` si la cantidad de la hipoteca son 350000 euros, el interés anual es del 5% y la quiere pagar en 20 años a partir de la función `calcular_hip`. (0.4)\n",
    "\n"
   ]
  },
  {
   "cell_type": "code",
   "execution_count": null,
   "metadata": {},
   "outputs": [],
   "source": []
  },
  {
   "attachments": {},
   "cell_type": "markdown",
   "metadata": {},
   "source": [
    "4. Crea una función `gasto_vivienda`, con dos argumentos de entrada `ingreso` y `lista_hip`. Esta lista tendrá los 3 valores de los argumentos de entrada de `calcular_hip`, llamando a esta función desde dentro de `gasto_vivienda`. Tiene que devolver el valor del porcentaje de gasto en la hipoteca respecto a los ingresos. (Entre 0 y 1, es decir 0.5 si es del 50%) Documenta la función. (0.4)"
   ]
  },
  {
   "cell_type": "code",
   "execution_count": null,
   "metadata": {},
   "outputs": [],
   "source": []
  },
  {
   "attachments": {},
   "cell_type": "markdown",
   "metadata": {},
   "source": [
    "5. Calcula el porcentaje de gasto en la hipoteca si el ingreso es de 1700 euros y guárdalo en la variable `res_porcentaje` a partir de la función `gasto_vivienda`. (0.4)\n"
   ]
  },
  {
   "cell_type": "code",
   "execution_count": null,
   "metadata": {},
   "outputs": [],
   "source": []
  }
 ],
 "metadata": {
  "kernelspec": {
   "display_name": "Python 3 (ipykernel)",
   "language": "python",
   "name": "python3"
  },
  "language_info": {
   "codemirror_mode": {
    "name": "ipython",
    "version": 3
   },
   "file_extension": ".py",
   "mimetype": "text/x-python",
   "name": "python",
   "nbconvert_exporter": "python",
   "pygments_lexer": "ipython3",
   "version": "3.10.11"
  },
  "vscode": {
   "interpreter": {
    "hash": "90139cb9a825bf3d63f6f6704e828dbd1ff7edbd4d0c6e906a71235d6efc74af"
   }
  }
 },
 "nbformat": 4,
 "nbformat_minor": 4
}
