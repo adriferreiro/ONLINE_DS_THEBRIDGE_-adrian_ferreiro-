{
 "cells": [
  {
   "cell_type": "markdown",
   "metadata": {},
   "source": [
    "## FUNCION \n",
    "\n",
    "Esta función recibe como argumentos un dataframe, el nombre de una de las columnas del mismo (argumento 'target_col'), que debería ser el target de un hipotético modelo de regresión, es decir debe ser una variable numérica continua o discreta pero con alta cardinalidad y una variable float \"pvalue\" cuyo valor por defecto será 0.05.\n",
    "\n",
    "La función debe devolver una lista con las columnas categóricas del dataframe cuyo test de relación con la columna designada por 'target_col' supere en confianza estadística el test de relación que sea necesario hacer (es decir la función debe poder escoger cuál de los dos test que hemos aprendido tiene que hacer).\n",
    "\n",
    "La función debe hacer todas las comprobaciones necesarias para no dar error como consecuecia de los valores de entrada. Es decir hará un check de los valores asignados a los argumentos de entrada y si estos no son adecuados debe retornar None y printar por pantalla la razón de este comportamiento. Ojo entre las comprobaciones debe estar que \"target_col\" hace referencia a una variable numérica continua del dataframe."
   ]
  },
  {
   "cell_type": "markdown",
   "metadata": {},
   "source": [
    "#### pasos a seguir\n",
    "Argumentos: \n",
    "    df, target_col, pvalue = 00.5\n",
    "devolver:\n",
    "    lista de columnas categóricas cuyo test de relación con la columna targer supera la confianza estadistica del teste de relafcion \n"
   ]
  },
  {
   "cell_type": "code",
   "execution_count": 24,
   "metadata": {},
   "outputs": [],
   "source": [
    "import pandas as pd\n",
    "import numpy as np\n",
    "from scipy.stats import ttest_ind, chi2_contingency\n",
    "\n"
   ]
  },
  {
   "cell_type": "code",
   "execution_count": 25,
   "metadata": {},
   "outputs": [],
   "source": [
    "\n",
    "def test_relacion_categoricas(df, target_col, pvalue=0.05):\n",
    "    # Comprobar si 'target_col' es una columna numérica continua\n",
    "    if target_col not in df.columns or not pd.api.types.is_numeric_dtype(df[target_col]):\n",
    "        print(f\"Error: '{target_col}' no es una columna numérica continua válida.\")\n",
    "        return None\n",
    "    \n",
    "    # Filtrar columnas categóricas\n",
    "    cols_categoricas = df.select_dtypes(include=['object', 'category']).columns\n",
    "    \n",
    "    # Comprobar si hay columnas categóricas\n",
    "    if len(cols_categoricas) == 0:\n",
    "        print(\"Error: No hay columnas categóricas en el dataframe.\")\n",
    "        return None\n",
    "    \n",
    "    # Calcular el número de categorías distintas en cada columna categórica\n",
    "    num_categorias = df[cols_categoricas].nunique()\n",
    "    \n",
    "    # Seleccionar la columna categórica con mayor cardinalidad\n",
    "    col_max_cardinalidad = num_categorias.idxmax()\n",
    "    \n",
    "    # Seleccionar el test de relación adecuado\n",
    "    if pd.api.types.is_numeric_dtype(df[col_max_cardinalidad]):\n",
    "        test_result = ttest_ind(df[col_max_cardinalidad], df[target_col])\n",
    "    else:\n",
    "        contingency_table = pd.crosstab(df[col_max_cardinalidad], df[target_col])\n",
    "        test_result = chi2_contingency(contingency_table)\n",
    "    \n",
    "    # Evaluar el p-value del test de relación\n",
    "    if test_result.pvalue < pvalue:\n",
    "        return [col_max_cardinalidad]\n",
    "    else:\n",
    "        print(f\"No se encontraron relaciones estadísticamente significativas para '{target_col}'.\")\n",
    "        return []\n",
    "\n",
    "# Ejemplo de uso\n",
    "# Supongamos que df es tu dataframe\n",
    "# columnas_relacionadas = test_relacion_categoricas(df, 'target_column')\n",
    "# print(columnas_relacionadas)\n"
   ]
  },
  {
   "cell_type": "code",
   "execution_count": 26,
   "metadata": {},
   "outputs": [],
   "source": [
    "df = pd.read_csv(\"./data/hard_to_find/obligatoria_hard.csv\",sep = \"|\")\n",
    "target = \"MEDV\""
   ]
  },
  {
   "cell_type": "code",
   "execution_count": 27,
   "metadata": {},
   "outputs": [
    {
     "name": "stdout",
     "output_type": "stream",
     "text": [
      "Error: No hay columnas categóricas en el dataframe.\n"
     ]
    }
   ],
   "source": [
    "test_relacion_categoricas(df, \"MEDV\", pvalue=0.05)"
   ]
  },
  {
   "cell_type": "code",
   "execution_count": 28,
   "metadata": {},
   "outputs": [
    {
     "name": "stdout",
     "output_type": "stream",
     "text": [
      "   target_column categorical_col1 categorical_col2\n",
      "0       1.545452                A                X\n",
      "1      -0.218653                B                X\n",
      "2       1.908600                A                Y\n",
      "3      -2.080878                C                Z\n",
      "4      -1.947742                C                Y\n"
     ]
    }
   ],
   "source": [
    "import pandas as pd\n",
    "import numpy as np\n",
    "\n",
    "# Crear un DataFrame de ejemplo\n",
    "data = {\n",
    "    'target_column': np.random.randn(100),  # Variable numérica continua\n",
    "    'categorical_col1': np.random.choice(['A', 'B', 'C'], 100),  # Variable categórica\n",
    "    'categorical_col2': np.random.choice(['X', 'Y', 'Z'], 100),  # Variable categórica\n",
    "}\n",
    "\n",
    "df = pd.DataFrame(data)\n",
    "\n",
    "# Agregar una relación significativa entre una columna categórica y la columna objetivo\n",
    "df['target_column'] = df['target_column'] + df['categorical_col1'].map({'A': 2, 'B': 0, 'C': -2})\n",
    "\n",
    "# Mostrar el DataFrame de ejemplo\n",
    "print(df.head())\n"
   ]
  },
  {
   "cell_type": "code",
   "execution_count": 29,
   "metadata": {},
   "outputs": [
    {
     "name": "stdout",
     "output_type": "stream",
     "text": [
      "No se encontraron relaciones estadísticamente significativas para 'target_column'.\n",
      "[]\n"
     ]
    }
   ],
   "source": [
    "columnas_relacionadas = test_relacion_categoricas(df, 'target_column')\n",
    "print(columnas_relacionadas)\n"
   ]
  },
  {
   "cell_type": "code",
   "execution_count": 30,
   "metadata": {},
   "outputs": [
    {
     "name": "stdout",
     "output_type": "stream",
     "text": [
      "   target_column categorical_col1 categorical_col2 categorical_col3  \\\n",
      "0      -1.478292                C                X                N   \n",
      "1       2.547765                A                Y                M   \n",
      "2      -4.742844                C                Y                M   \n",
      "3       8.068839                A                Y                N   \n",
      "4      -4.413132                C                X                M   \n",
      "\n",
      "   numeric_col  \n",
      "0     0.683329  \n",
      "1    -0.209314  \n",
      "2     1.072978  \n",
      "3     2.363872  \n",
      "4    -0.785986  \n"
     ]
    }
   ],
   "source": [
    "import pandas as pd\n",
    "import numpy as np\n",
    "\n",
    "# Semilla para reproducibilidad\n",
    "np.random.seed(42)\n",
    "\n",
    "# Crear un DataFrame de ejemplo más grande\n",
    "data = {\n",
    "    'target_column': np.random.randn(1000),  # Variable numérica continua\n",
    "\n",
    "    # Dos variables categóricas que afectan a 'target_column'\n",
    "    'categorical_col1': np.random.choice(['A', 'B', 'C'], 1000),\n",
    "    'categorical_col2': np.random.choice(['X', 'Y', 'Z'], 1000),\n",
    "    \n",
    "    # Una variable categórica sin efecto significativo\n",
    "    'categorical_col3': np.random.choice(['M', 'N'], 1000),\n",
    "\n",
    "    # Variable numérica adicional sin efecto significativo\n",
    "    'numeric_col': np.random.randn(1000),\n",
    "}\n",
    "\n",
    "# Agregar relaciones significativas aumentando los efectos\n",
    "data['target_column'] = (\n",
    "    data['target_column'] +\n",
    "    pd.Series(data['categorical_col1']).map({'A': 5, 'B': 0, 'C': -5}).values +\n",
    "    pd.Series(data['categorical_col2']).map({'X': 2, 'Y': -2, 'Z': 1}).values +\n",
    "    1.5 * data['numeric_col']\n",
    ")\n",
    "\n",
    "df = pd.DataFrame(data)\n",
    "\n",
    "# Mostrar el DataFrame de ejemplo\n",
    "print(df.head())\n",
    "\n"
   ]
  },
  {
   "cell_type": "code",
   "execution_count": 31,
   "metadata": {},
   "outputs": [
    {
     "name": "stdout",
     "output_type": "stream",
     "text": [
      "No se encontraron relaciones estadísticamente significativas para 'target_column'.\n",
      "[]\n"
     ]
    }
   ],
   "source": [
    "# Probar la función\n",
    "columnas_relacionadas = test_relacion_categoricas(df, 'target_column')\n",
    "print(columnas_relacionadas)\n"
   ]
  },
  {
   "cell_type": "code",
   "execution_count": 32,
   "metadata": {},
   "outputs": [],
   "source": [
    "df_inmo = pd.read_csv(\"./data_2/ejemplo_housing.csv\")"
   ]
  },
  {
   "cell_type": "code",
   "execution_count": 34,
   "metadata": {},
   "outputs": [
    {
     "name": "stdout",
     "output_type": "stream",
     "text": [
      "['ocean_proximity']\n"
     ]
    }
   ],
   "source": [
    "\n",
    "columnas_relacionadas = test_relacion_categoricas(df_inmo, 'median_house_value')\n",
    "print(columnas_relacionadas)"
   ]
  },
  {
   "cell_type": "code",
   "execution_count": null,
   "metadata": {},
   "outputs": [],
   "source": []
  }
 ],
 "metadata": {
  "kernelspec": {
   "display_name": "Python 3",
   "language": "python",
   "name": "python3"
  },
  "language_info": {
   "codemirror_mode": {
    "name": "ipython",
    "version": 3
   },
   "file_extension": ".py",
   "mimetype": "text/x-python",
   "name": "python",
   "nbconvert_exporter": "python",
   "pygments_lexer": "ipython3",
   "version": "3.12.1"
  }
 },
 "nbformat": 4,
 "nbformat_minor": 2
}
