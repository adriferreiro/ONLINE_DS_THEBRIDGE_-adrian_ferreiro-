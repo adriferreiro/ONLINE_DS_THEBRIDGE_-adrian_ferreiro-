{
 "cells": [
  {
   "cell_type": "markdown",
   "metadata": {},
   "source": [
    "### Funcion: get_features_cat_classification"
   ]
  },
  {
   "cell_type": "markdown",
   "metadata": {},
   "source": [
    "Esta función recibe como argumentos un dataframe, el nombre de una de las columnas del mismo (argumento 'target_col'), que debería ser el target de un hipotético modelo de clasificación, es decir debe ser una variable categórica o numérica discreta pero con baja cardinalidad, un argumento \"normalize\" con valor False por defecto, una variable float \"mi_threshold\" cuyo valor por defecto será 0.\n",
    "\n",
    "* En caso de que \"normalize\" sea False:\n",
    "    La función debe devolver una lista con las columnas categóricas del dataframe cuyo valor de mutual information con 'target_col' iguale o supere el valor de \"mi_threshold\".\n",
    "\n",
    "* En caso de que \"normalize\" sea True:\n",
    "    La función debe devolver una lista con las columnas categóricas del dataframe cuyo valor normalizado de mutual information con 'target_col' iguale o supere el valor de \"mi_threshold\". El valor normalizado de mutual information se considera el obtenido de dividir el valor de mutual information tal cual ofrece sklearn o la fórmula de cálculo por la suma de todos los valores de mutual information de las features categóricas del dataframe.\n",
    "    En este caso, la función debe comprobar que \"mi_threshold\" es un valor float entre 0 y 1, y arrojar un error si no lo es.\n",
    "\n",
    "La función debe hacer todas las comprobaciones necesarias para no dar error como consecuecia de los valores de entrada. Es decir hará un check de los valores asignados a los argumentos de entrada y si estos no son adecuados debe retornar None y printar por pantalla la razón de este comportamiento. Ojo entre las comprobaciones debe estar que \"target_col\" hace referencia a una variable categórica del dataframe."
   ]
  },
  {
   "cell_type": "code",
   "execution_count": 58,
   "metadata": {},
   "outputs": [],
   "source": [
    "import pandas as pd"
   ]
  },
  {
   "cell_type": "code",
   "execution_count": 59,
   "metadata": {},
   "outputs": [
    {
     "name": "stdout",
     "output_type": "stream",
     "text": [
      "<class 'pandas.core.frame.DataFrame'>\n",
      "RangeIndex: 891 entries, 0 to 890\n",
      "Data columns (total 11 columns):\n",
      " #   Column      Non-Null Count  Dtype  \n",
      "---  ------      --------------  -----  \n",
      " 0   survived    891 non-null    int64  \n",
      " 1   pclass      891 non-null    int64  \n",
      " 2   sex         891 non-null    object \n",
      " 3   sibsp       891 non-null    int64  \n",
      " 4   parch       891 non-null    int64  \n",
      " 5   fare        891 non-null    float64\n",
      " 6   class       891 non-null    object \n",
      " 7   who         891 non-null    object \n",
      " 8   adult_male  891 non-null    bool   \n",
      " 9   alive       891 non-null    object \n",
      " 10  alone       891 non-null    bool   \n",
      "dtypes: bool(2), float64(1), int64(4), object(4)\n",
      "memory usage: 64.5+ KB\n"
     ]
    }
   ],
   "source": [
    "df = pd.read_csv(\"./data3/titanic.csv\")\n",
    "df = df.drop([\"age\", \"embark_town\", \"embarked\", \"deck\"], axis=1)\n",
    "target_col = \"alive\"\n",
    "df.info()"
   ]
  },
  {
   "cell_type": "code",
   "execution_count": 61,
   "metadata": {},
   "outputs": [],
   "source": [
    "from sklearn.feature_selection import mutual_info_classif\n",
    "import pandas as pd\n",
    "\n",
    "def get_features_cat_classification(df, target_col, normalize=False, mi_threshold=0):\n",
    "    # Comprobar si 'target_col' es una columna del DataFrame\n",
    "    if target_col not in df.columns:\n",
    "        print(f\"Error: '{target_col}' no es una columna válida en el DataFrame.\")\n",
    "        return None\n",
    "\n",
    "    # Comprobar si 'target_col' es una variable categórica\n",
    "    if not pd.api.types.is_categorical_dtype(df[target_col]) and not pd.api.types.is_object_dtype(df[target_col]):\n",
    "        print(f\"Error: '{target_col}' no es una variable categórica en el DataFrame.\")\n",
    "        return None\n",
    "\n",
    "    # Comprobar si 'mi_threshold' es un valor float entre 0 y 1\n",
    "    if not isinstance(mi_threshold, float) or mi_threshold < 0 or mi_threshold > 1:\n",
    "        print(\"Error: 'mi_threshold' debe ser un valor float entre 0 y 1.\")\n",
    "        return None\n",
    "\n",
    "    # Comprobar si 'normalize' es un booleano\n",
    "    if not isinstance(normalize, bool):\n",
    "        print(\"Error: 'normalize' debe ser un valor booleano (True/False).\")\n",
    "        return None\n",
    "\n",
    "    # Copiar el DataFrame para evitar modificar el original\n",
    "    df_copy = df.copy()\n",
    "\n",
    "    # Excluir la columna objetivo antes de aplicar la codificación one-hot\n",
    "    if target_col in df_copy.columns:\n",
    "        df_copy.drop(columns=[target_col], inplace=True)\n",
    "\n",
    "    # Obtener las columnas categóricas del DataFrame\n",
    "    categorical_cols = [col for col in df_copy.columns if df_copy[col].nunique() < 20]\n",
    "\n",
    "    # Eliminar columnas que no son categóricas\n",
    "    for col in df_copy:\n",
    "        if col not in categorical_cols:\n",
    "            df_copy.drop(columns=[col], inplace=True)\n",
    "\n",
    "    # Si hay columnas categóricas no numéricas, aplicar codificación one-hot\n",
    "    if categorical_cols:\n",
    "        df_copy = pd.get_dummies(df_copy, columns=categorical_cols)\n",
    "\n",
    "    # Obtener las características después de eliminar filas con valores faltantes\n",
    "    X = df_copy\n",
    "\n",
    "    # Obtener la variable objetivo después de eliminar filas con valores faltantes\n",
    "    y = df[target_col].iloc[df_copy.index]\n",
    "\n",
    "    selected_features = []\n",
    "\n",
    "    for col in X.columns:\n",
    "        # Calcula la información mutua entre la columna actual y la variable objetivo\n",
    "        mi_score = mutual_info_classif(X[[col]], y)[0]\n",
    "\n",
    "        # Si se solicita normalización, normaliza el puntaje de información mutua\n",
    "        if normalize:\n",
    "            mi_scores_sum = sum(mutual_info_classif(X[[col]], y) for col in X.columns)\n",
    "            if mi_scores_sum == 0:\n",
    "                print(\"Error: La suma de los puntajes de información mutua es cero, no se puede normalizar.\")\n",
    "                return None\n",
    "            mi_score /= mi_scores_sum\n",
    "\n",
    "        # Si el puntaje de información mutua supera el umbral especificado, agrega la columna a las seleccionadas\n",
    "        if mi_score >= mi_threshold:\n",
    "            selected_features.append(col)\n",
    "\n",
    "    return selected_features\n",
    "\n",
    "\n",
    "'''Definitiva creo que esta funciona'''"
   ]
  },
  {
   "cell_type": "code",
   "execution_count": 79,
   "metadata": {},
   "outputs": [
    {
     "name": "stderr",
     "output_type": "stream",
     "text": [
      "C:\\Users\\adrif\\AppData\\Local\\Temp\\ipykernel_36804\\1273022756.py:11: FutureWarning: is_categorical_dtype is deprecated and will be removed in a future version. Use isinstance(dtype, CategoricalDtype) instead\n",
      "  if not pd.api.types.is_categorical_dtype(df[target_col]) and not pd.api.types.is_object_dtype(df[target_col]):\n"
     ]
    },
    {
     "data": {
      "text/plain": [
       "['survived_0',\n",
       " 'survived_1',\n",
       " 'sex_female',\n",
       " 'sex_male',\n",
       " 'who_man',\n",
       " 'who_woman',\n",
       " 'adult_male_False',\n",
       " 'adult_male_True']"
      ]
     },
     "execution_count": 79,
     "metadata": {},
     "output_type": "execute_result"
    }
   ],
   "source": [
    "get_features_cat_classification(df, target_col, normalize=False, mi_threshold=0.1)"
   ]
  },
  {
   "cell_type": "code",
   "execution_count": null,
   "metadata": {},
   "outputs": [],
   "source": []
  }
 ],
 "metadata": {
  "kernelspec": {
   "display_name": "Python 3",
   "language": "python",
   "name": "python3"
  },
  "language_info": {
   "codemirror_mode": {
    "name": "ipython",
    "version": 3
   },
   "file_extension": ".py",
   "mimetype": "text/x-python",
   "name": "python",
   "nbconvert_exporter": "python",
   "pygments_lexer": "ipython3",
   "version": "3.10.11"
  }
 },
 "nbformat": 4,
 "nbformat_minor": 2
}
