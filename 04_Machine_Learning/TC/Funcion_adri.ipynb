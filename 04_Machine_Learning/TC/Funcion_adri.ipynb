{
 "cells": [
  {
   "cell_type": "markdown",
   "metadata": {},
   "source": [
    "## FUNCION \n",
    "\n",
    "Esta función recibe como argumentos un dataframe, el nombre de una de las columnas del mismo (argumento 'target_col'), que debería ser el target de un hipotético modelo de regresión, es decir debe ser una variable numérica continua o discreta pero con alta cardinalidad y una variable float \"pvalue\" cuyo valor por defecto será 0.05.\n",
    "\n",
    "La función debe devolver una lista con las columnas categóricas del dataframe cuyo test de relación con la columna designada por 'target_col' supere en confianza estadística el test de relación que sea necesario hacer (es decir la función debe poder escoger cuál de los dos test que hemos aprendido tiene que hacer).\n",
    "\n",
    "La función debe hacer todas las comprobaciones necesarias para no dar error como consecuecia de los valores de entrada. Es decir hará un check de los valores asignados a los argumentos de entrada y si estos no son adecuados debe retornar None y printar por pantalla la razón de este comportamiento. Ojo entre las comprobaciones debe estar que \"target_col\" hace referencia a una variable numérica continua del dataframe."
   ]
  },
  {
   "cell_type": "markdown",
   "metadata": {},
   "source": [
    "#### pasos a seguir\n",
    "Argumentos: \n",
    "    df, target_col, pvalue = 00.5\n",
    "devolver:\n",
    "    lista de columnas categóricas cuyo test de relación con la columna targer supera la confianza estadistica del teste de relafcion \n"
   ]
  },
  {
   "cell_type": "code",
   "execution_count": 1,
   "metadata": {},
   "outputs": [],
   "source": [
    "import pandas as pd\n",
    "import numpy as np\n",
    "from scipy.stats import ttest_ind, chi2_contingency\n",
    "\n"
   ]
  },
  {
   "cell_type": "code",
   "execution_count": 2,
   "metadata": {},
   "outputs": [],
   "source": [
    "\n",
    "def test_relacion_categoricas(df, target_col, pvalue=0.05):\n",
    "    # Comprobar si 'target_col' es una columna numérica continua\n",
    "    if target_col not in df.columns or not pd.api.types.is_numeric_dtype(df[target_col]): #pd.api.types.is_numeric_dtype función está diseñada para verificar si un tipo de datos dado es numérico.\n",
    "        print(f\"Error: '{target_col}' no es una columna numérica continua válida.\")\n",
    "        return None\n",
    "    \n",
    "    # Filtrar columnas categóricas\n",
    "    cols_categoricas = df.select_dtypes(include=[\"object\", \"category\"]).columns\n",
    "    \n",
    "    # Comprobar si hay columnas categóricas\n",
    "    if len(cols_categoricas) == 0:\n",
    "        print(\"Error: No hay columnas categóricas en el dataframe.\")\n",
    "        return None\n",
    "    \n",
    "    # Calcular el número de categorías distintas en cada columna categórica\n",
    "    num_categorias = df[cols_categoricas].nunique()\n",
    "    \n",
    "    # Seleccionar la columna categórica con mayor cardinalidad\n",
    "    col_max_cardinalidad = num_categorias.idxmax()\n",
    "    \n",
    "    # Seleccionar el test de relación adecuado\n",
    "    if pd.api.types.is_numeric_dtype(df[col_max_cardinalidad]):\n",
    "        test_result = ttest_ind(df[col_max_cardinalidad], df[target_col])\n",
    "    else:\n",
    "        contingency_table = pd.crosstab(df[col_max_cardinalidad], df[target_col])\n",
    "        test_result = chi2_contingency(contingency_table)\n",
    "    \n",
    "    # Evaluar el p-value del test de relación\n",
    "    if test_result.pvalue < pvalue:\n",
    "        return [col_max_cardinalidad]\n",
    "    else:\n",
    "        print(f\"No se encontraron relaciones estadísticamente significativas para '{target_col}'.\")\n",
    "        return []\n",
    "\n",
    "\n"
   ]
  },
  {
   "cell_type": "code",
   "execution_count": 3,
   "metadata": {},
   "outputs": [],
   "source": [
    "\n",
    "def test_relacion_categoricas(df, target_col, pvalue=0.05):\n",
    "    \"\"\"\n",
    "    Realiza pruebas estadísticas para evaluar la relación entre una columna numérica continua\n",
    "    (target_col) y columnas categóricas en un DataFrame.\n",
    "\n",
    "    Parámetros:\n",
    "    - df: DataFrame, el conjunto de datos.\n",
    "    - target_col: str, nombre de la columna objetivo (debe ser numérica continua).\n",
    "    - pvalue: float, umbral de valor p para determinar la significancia estadística.\n",
    "\n",
    "    Retorna:\n",
    "    - Lista de nombres de columnas categóricas con relaciones estadísticamente significativas.\n",
    "\n",
    "    Si hay errores o no se encuentran relaciones significativas, se imprime un mensaje y retorna None.\n",
    "    \"\"\"\n",
    "    lista = []      # Lista para almacenar resultados intermedios\n",
    "    lista2 = []     # Lista para almacenar columnas con relaciones estadísticamente significativas\n",
    "\n",
    "    # Comprobar si 'target_col' es una columna numérica continua\n",
    "    if target_col not in df.columns or not pd.api.types.is_numeric_dtype(df[target_col]): \n",
    "        '''Verifica dos condiciones: Si target_col no está presente en las columnas del \n",
    "    DataFrame (df.columns) y Si el tipo de datos de la columna target_col no es numérico continuo'''\n",
    "        print(f\"Error: '{target_col}' no es una columna numérica continua válida.\")\n",
    "        return None\n",
    "    \n",
    "    # Filtrar columnas categóricas\n",
    "    col_max_cardinalidad = df.select_dtypes(include=[\"object\", \"category\"]).columns #especifica que solo se deben incluir las columnas con tipos de datos 'object' (cadenas de texto) o 'category' (columnas categóricas).\n",
    "    \n",
    "    # Comprobar si hay columnas categóricas\n",
    "    if len(col_max_cardinalidad) == 0:\n",
    "        print(\"Error: No hay columnas categóricas en el dataframe.\")\n",
    "        return None\n",
    "    \n",
    "    # Iterar sobre las columnas categóricas con mayor cardinalidad\n",
    "    for col in col_max_cardinalidad:\n",
    "        # Verificar si la columna es numérica\n",
    "        if pd.api.types.is_numeric_dtype(df[col]): #Si la columna es numérica, realiza la prueba t de independencia (ttest_ind)\n",
    "            # Realizar la prueba t de independencia\n",
    "            test_result = ttest_ind(df[col], df[target_col]) #La prueba t evalúa si hay diferencias significativas entre las medias de dos grupos (en este caso, las muestras de la columna categórica y la columna objetivo)\n",
    "            lista.append((col, test_result))  # Agregar el resultado a la lista\n",
    "        else: #Si la columna no es numérica, significa que es categórica.\n",
    "            # Crear una tabla de contingencia y realizar el test de chi-cuadrado\n",
    "            contingency_table = pd.crosstab(df[col], df[target_col])#crea una tabla de contingencia, tabla que muestra la distribución conjunta de las frecuencias de dos o más variables categóricas.\n",
    "            test_result = chi2_contingency(contingency_table) #El test de chi-cuadrado evalúa si existe una asociación significativa entre las variables categóricas.\n",
    "            lista.append((col, test_result))  # Agregar el resultado a la lista\n",
    "    \n",
    "    # Evaluar el p-value del test de relación\n",
    "    for col, result in lista:\n",
    "        if result.pvalue < pvalue:\n",
    "            lista2.append(col)  # Agregar la columna con relación significativa a la lista2\n",
    "    \n",
    "    # Imprimir mensaje si no se encontraron relaciones significativas\n",
    "    if not lista2:\n",
    "        print(f\"No se encontraron relaciones estadísticamente significativas para '{target_col}'.\")\n",
    "    \n",
    "    # Devolver la lista de columnas con relaciones significativas\n",
    "    return lista2\n"
   ]
  },
  {
   "cell_type": "code",
   "execution_count": 4,
   "metadata": {},
   "outputs": [],
   "source": [
    "df = pd.read_csv(\"./data/hard_to_find/obligatoria_hard.csv\",sep = \"|\")\n",
    "target = \"MEDV\""
   ]
  },
  {
   "cell_type": "code",
   "execution_count": 5,
   "metadata": {},
   "outputs": [
    {
     "name": "stdout",
     "output_type": "stream",
     "text": [
      "Error: No hay columnas categóricas en el dataframe.\n"
     ]
    }
   ],
   "source": [
    "test_relacion_categoricas(df, \"MEDV\", pvalue=0.05)"
   ]
  },
  {
   "cell_type": "code",
   "execution_count": 6,
   "metadata": {},
   "outputs": [],
   "source": [
    "df_inmo = pd.read_csv(\"./data_2/ejemplo_housing.csv\")"
   ]
  },
  {
   "cell_type": "code",
   "execution_count": 7,
   "metadata": {},
   "outputs": [
    {
     "name": "stdout",
     "output_type": "stream",
     "text": [
      "['ocean_proximity']\n"
     ]
    }
   ],
   "source": [
    "\n",
    "columnas_relacionadas = test_relacion_categoricas(df_inmo, 'median_house_value')\n",
    "print(columnas_relacionadas)"
   ]
  },
  {
   "cell_type": "code",
   "execution_count": null,
   "metadata": {},
   "outputs": [],
   "source": []
  }
 ],
 "metadata": {
  "kernelspec": {
   "display_name": "Python 3",
   "language": "python",
   "name": "python3"
  },
  "language_info": {
   "codemirror_mode": {
    "name": "ipython",
    "version": 3
   },
   "file_extension": ".py",
   "mimetype": "text/x-python",
   "name": "python",
   "nbconvert_exporter": "python",
   "pygments_lexer": "ipython3",
   "version": "3.12.1"
  }
 },
 "nbformat": 4,
 "nbformat_minor": 2
}
